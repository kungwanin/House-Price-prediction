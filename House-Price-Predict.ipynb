{
 "cells": [
  {
   "cell_type": "markdown",
   "metadata": {},
   "source": [
    "# House Prices - Advanced Regression Techniques\n"
   ]
  },
  {
   "cell_type": "code",
   "execution_count": 1,
   "metadata": {},
   "outputs": [],
   "source": [
    "import numpy as np\n",
    "import pandas as pd\n",
    "import matplotlib.pyplot as plt\n",
    "import seaborn as sns\n",
    "import xgboost"
   ]
  },
  {
   "cell_type": "code",
   "execution_count": 2,
   "metadata": {},
   "outputs": [],
   "source": [
    "df_train = pd.read_csv(\"data/train.csv\")"
   ]
  },
  {
   "cell_type": "code",
   "execution_count": 3,
   "metadata": {},
   "outputs": [],
   "source": [
    "df_test = pd.read_csv(\"data/test.csv\")"
   ]
  },
  {
   "cell_type": "code",
   "execution_count": 4,
   "metadata": {},
   "outputs": [
    {
     "name": "stdout",
     "output_type": "stream",
     "text": [
      "   Id  MSSubClass MSZoning  LotFrontage  LotArea Street Alley LotShape  \\\n",
      "0   1          60       RL         65.0     8450   Pave   NaN      Reg   \n",
      "1   2          20       RL         80.0     9600   Pave   NaN      Reg   \n",
      "2   3          60       RL         68.0    11250   Pave   NaN      IR1   \n",
      "3   4          70       RL         60.0     9550   Pave   NaN      IR1   \n",
      "4   5          60       RL         84.0    14260   Pave   NaN      IR1   \n",
      "\n",
      "  LandContour Utilities LotConfig LandSlope Neighborhood Condition1  \\\n",
      "0         Lvl    AllPub    Inside       Gtl      CollgCr       Norm   \n",
      "1         Lvl    AllPub       FR2       Gtl      Veenker      Feedr   \n",
      "2         Lvl    AllPub    Inside       Gtl      CollgCr       Norm   \n",
      "3         Lvl    AllPub    Corner       Gtl      Crawfor       Norm   \n",
      "4         Lvl    AllPub       FR2       Gtl      NoRidge       Norm   \n",
      "\n",
      "  Condition2 BldgType HouseStyle  OverallQual  OverallCond  YearBuilt  \\\n",
      "0       Norm     1Fam     2Story            7            5       2003   \n",
      "1       Norm     1Fam     1Story            6            8       1976   \n",
      "2       Norm     1Fam     2Story            7            5       2001   \n",
      "3       Norm     1Fam     2Story            7            5       1915   \n",
      "4       Norm     1Fam     2Story            8            5       2000   \n",
      "\n",
      "   YearRemodAdd RoofStyle RoofMatl Exterior1st Exterior2nd MasVnrType  \\\n",
      "0          2003     Gable  CompShg     VinylSd     VinylSd    BrkFace   \n",
      "1          1976     Gable  CompShg     MetalSd     MetalSd       None   \n",
      "2          2002     Gable  CompShg     VinylSd     VinylSd    BrkFace   \n",
      "3          1970     Gable  CompShg     Wd Sdng     Wd Shng       None   \n",
      "4          2000     Gable  CompShg     VinylSd     VinylSd    BrkFace   \n",
      "\n",
      "   MasVnrArea ExterQual ExterCond Foundation BsmtQual BsmtCond BsmtExposure  \\\n",
      "0       196.0        Gd        TA      PConc       Gd       TA           No   \n",
      "1         0.0        TA        TA     CBlock       Gd       TA           Gd   \n",
      "2       162.0        Gd        TA      PConc       Gd       TA           Mn   \n",
      "3         0.0        TA        TA     BrkTil       TA       Gd           No   \n",
      "4       350.0        Gd        TA      PConc       Gd       TA           Av   \n",
      "\n",
      "  BsmtFinType1  BsmtFinSF1 BsmtFinType2  BsmtFinSF2  BsmtUnfSF  TotalBsmtSF  \\\n",
      "0          GLQ         706          Unf           0        150          856   \n",
      "1          ALQ         978          Unf           0        284         1262   \n",
      "2          GLQ         486          Unf           0        434          920   \n",
      "3          ALQ         216          Unf           0        540          756   \n",
      "4          GLQ         655          Unf           0        490         1145   \n",
      "\n",
      "  Heating HeatingQC CentralAir Electrical  1stFlrSF  2ndFlrSF  LowQualFinSF  \\\n",
      "0    GasA        Ex          Y      SBrkr       856       854             0   \n",
      "1    GasA        Ex          Y      SBrkr      1262         0             0   \n",
      "2    GasA        Ex          Y      SBrkr       920       866             0   \n",
      "3    GasA        Gd          Y      SBrkr       961       756             0   \n",
      "4    GasA        Ex          Y      SBrkr      1145      1053             0   \n",
      "\n",
      "   GrLivArea  BsmtFullBath  BsmtHalfBath  FullBath  HalfBath  BedroomAbvGr  \\\n",
      "0       1710             1             0         2         1             3   \n",
      "1       1262             0             1         2         0             3   \n",
      "2       1786             1             0         2         1             3   \n",
      "3       1717             1             0         1         0             3   \n",
      "4       2198             1             0         2         1             4   \n",
      "\n",
      "   KitchenAbvGr KitchenQual  TotRmsAbvGrd Functional  Fireplaces FireplaceQu  \\\n",
      "0             1          Gd             8        Typ           0         NaN   \n",
      "1             1          TA             6        Typ           1          TA   \n",
      "2             1          Gd             6        Typ           1          TA   \n",
      "3             1          Gd             7        Typ           1          Gd   \n",
      "4             1          Gd             9        Typ           1          TA   \n",
      "\n",
      "  GarageType  GarageYrBlt GarageFinish  GarageCars  GarageArea GarageQual  \\\n",
      "0     Attchd       2003.0          RFn           2         548         TA   \n",
      "1     Attchd       1976.0          RFn           2         460         TA   \n",
      "2     Attchd       2001.0          RFn           2         608         TA   \n",
      "3     Detchd       1998.0          Unf           3         642         TA   \n",
      "4     Attchd       2000.0          RFn           3         836         TA   \n",
      "\n",
      "  GarageCond PavedDrive  WoodDeckSF  OpenPorchSF  EnclosedPorch  3SsnPorch  \\\n",
      "0         TA          Y           0           61              0          0   \n",
      "1         TA          Y         298            0              0          0   \n",
      "2         TA          Y           0           42              0          0   \n",
      "3         TA          Y           0           35            272          0   \n",
      "4         TA          Y         192           84              0          0   \n",
      "\n",
      "   ScreenPorch  PoolArea PoolQC Fence MiscFeature  MiscVal  MoSold  YrSold  \\\n",
      "0            0         0    NaN   NaN         NaN        0       2    2008   \n",
      "1            0         0    NaN   NaN         NaN        0       5    2007   \n",
      "2            0         0    NaN   NaN         NaN        0       9    2008   \n",
      "3            0         0    NaN   NaN         NaN        0       2    2006   \n",
      "4            0         0    NaN   NaN         NaN        0      12    2008   \n",
      "\n",
      "  SaleType SaleCondition  SalePrice  \n",
      "0       WD        Normal     208500  \n",
      "1       WD        Normal     181500  \n",
      "2       WD        Normal     223500  \n",
      "3       WD       Abnorml     140000  \n",
      "4       WD        Normal     250000  \n"
     ]
    }
   ],
   "source": [
    "with pd.option_context('display.max_rows', None, 'display.max_columns', None):  # more options can be specified also\n",
    "    print(df_train.head())"
   ]
  },
  {
   "cell_type": "code",
   "execution_count": 5,
   "metadata": {},
   "outputs": [
    {
     "data": {
      "text/plain": [
       "(1460, 81)"
      ]
     },
     "execution_count": 5,
     "metadata": {},
     "output_type": "execute_result"
    }
   ],
   "source": [
    "df_train.shape"
   ]
  },
  {
   "cell_type": "code",
   "execution_count": 6,
   "metadata": {},
   "outputs": [
    {
     "data": {
      "text/plain": [
       "(1459, 80)"
      ]
     },
     "execution_count": 6,
     "metadata": {},
     "output_type": "execute_result"
    }
   ],
   "source": [
    "df_test.shape"
   ]
  },
  {
   "cell_type": "code",
   "execution_count": 7,
   "metadata": {},
   "outputs": [
    {
     "name": "stdout",
     "output_type": "stream",
     "text": [
      "Percentage of null values for df_train\n",
      "LotFrontage     -     17.73972602739726\n",
      "Alley     -     93.76712328767124\n",
      "MasVnrType     -     0.547945205479452\n",
      "MasVnrArea     -     0.547945205479452\n",
      "BsmtQual     -     2.5342465753424657\n",
      "BsmtCond     -     2.5342465753424657\n",
      "BsmtExposure     -     2.6027397260273974\n",
      "BsmtFinType1     -     2.5342465753424657\n",
      "BsmtFinType2     -     2.6027397260273974\n",
      "Electrical     -     0.0684931506849315\n",
      "FireplaceQu     -     47.26027397260274\n",
      "GarageType     -     5.5479452054794525\n",
      "GarageYrBlt     -     5.5479452054794525\n",
      "GarageFinish     -     5.5479452054794525\n",
      "GarageQual     -     5.5479452054794525\n",
      "GarageCond     -     5.5479452054794525\n",
      "PoolQC     -     99.52054794520548\n",
      "Fence     -     80.75342465753425\n",
      "MiscFeature     -     96.3013698630137\n"
     ]
    }
   ],
   "source": [
    "print(\"Percentage of null values for df_train\")\n",
    "\n",
    "with pd.option_context('display.max_rows', None, 'display.max_columns', None):  # more options can be specified also\n",
    "    percentage_null_values = df_train.isnull().sum()*100/df_train.shape[0]\n",
    "    \n",
    "    for col,val in percentage_null_values.iteritems():\n",
    "        if val!=0:\n",
    "            print(col,\"    -    \",val)"
   ]
  },
  {
   "cell_type": "code",
   "execution_count": 8,
   "metadata": {},
   "outputs": [
    {
     "name": "stdout",
     "output_type": "stream",
     "text": [
      "Percentage of null values for df_test\n",
      "MSZoning     -     0.27416038382453733\n",
      "LotFrontage     -     15.558601782042494\n",
      "Alley     -     92.66620973269363\n",
      "Utilities     -     0.13708019191226867\n",
      "Exterior1st     -     0.06854009595613433\n",
      "Exterior2nd     -     0.06854009595613433\n",
      "MasVnrType     -     1.0966415352981493\n",
      "MasVnrArea     -     1.0281014393420151\n",
      "BsmtQual     -     3.015764222069911\n",
      "BsmtCond     -     3.0843043180260454\n",
      "BsmtExposure     -     3.015764222069911\n",
      "BsmtFinType1     -     2.8786840301576424\n",
      "BsmtFinSF1     -     0.06854009595613433\n",
      "BsmtFinType2     -     2.8786840301576424\n",
      "BsmtFinSF2     -     0.06854009595613433\n",
      "BsmtUnfSF     -     0.06854009595613433\n",
      "TotalBsmtSF     -     0.06854009595613433\n",
      "BsmtFullBath     -     0.13708019191226867\n",
      "BsmtHalfBath     -     0.13708019191226867\n",
      "KitchenQual     -     0.06854009595613433\n",
      "Functional     -     0.13708019191226867\n",
      "FireplaceQu     -     50.03427004797807\n",
      "GarageType     -     5.2090472926662095\n",
      "GarageYrBlt     -     5.346127484578479\n",
      "GarageFinish     -     5.346127484578479\n",
      "GarageCars     -     0.06854009595613433\n",
      "GarageArea     -     0.06854009595613433\n",
      "GarageQual     -     5.346127484578479\n",
      "GarageCond     -     5.346127484578479\n",
      "PoolQC     -     99.7943797121316\n",
      "Fence     -     80.12337217272105\n",
      "MiscFeature     -     96.50445510623715\n",
      "SaleType     -     0.06854009595613433\n"
     ]
    }
   ],
   "source": [
    "print(\"Percentage of null values for df_test\")\n",
    "\n",
    "with pd.option_context('display.max_rows', None, 'display.max_columns', None):  # more options can be specified also\n",
    "    percentage_null_values = df_test.isnull().sum()*100/df_test.shape[0]\n",
    "    \n",
    "    for col,val in percentage_null_values.iteritems():\n",
    "        if val!=0:\n",
    "            print(col,\"    -    \",val)\n",
    "            "
   ]
  },
  {
   "cell_type": "code",
   "execution_count": 9,
   "metadata": {},
   "outputs": [
    {
     "name": "stderr",
     "output_type": "stream",
     "text": [
      "C:\\Users\\kungw\\Anaconda3\\lib\\site-packages\\ipykernel_launcher.py:1: FutureWarning: Sorting because non-concatenation axis is not aligned. A future version\n",
      "of pandas will change to not sort by default.\n",
      "\n",
      "To accept the future behavior, pass 'sort=False'.\n",
      "\n",
      "To retain the current behavior and silence the warning, pass 'sort=True'.\n",
      "\n",
      "  \"\"\"Entry point for launching an IPython kernel.\n"
     ]
    }
   ],
   "source": [
    "df = pd.concat([df_train,df_test])"
   ]
  },
  {
   "cell_type": "code",
   "execution_count": 10,
   "metadata": {},
   "outputs": [
    {
     "data": {
      "text/plain": [
       "Index(['1stFlrSF', '2ndFlrSF', '3SsnPorch', 'Alley', 'BedroomAbvGr',\n",
       "       'BldgType', 'BsmtCond', 'BsmtExposure', 'BsmtFinSF1', 'BsmtFinSF2',\n",
       "       'BsmtFinType1', 'BsmtFinType2', 'BsmtFullBath', 'BsmtHalfBath',\n",
       "       'BsmtQual', 'BsmtUnfSF', 'CentralAir', 'Condition1', 'Condition2',\n",
       "       'Electrical', 'EnclosedPorch', 'ExterCond', 'ExterQual', 'Exterior1st',\n",
       "       'Exterior2nd', 'Fence', 'FireplaceQu', 'Fireplaces', 'Foundation',\n",
       "       'FullBath', 'Functional', 'GarageArea', 'GarageCars', 'GarageCond',\n",
       "       'GarageFinish', 'GarageQual', 'GarageType', 'GarageYrBlt', 'GrLivArea',\n",
       "       'HalfBath', 'Heating', 'HeatingQC', 'HouseStyle', 'Id', 'KitchenAbvGr',\n",
       "       'KitchenQual', 'LandContour', 'LandSlope', 'LotArea', 'LotConfig',\n",
       "       'LotFrontage', 'LotShape', 'LowQualFinSF', 'MSSubClass', 'MSZoning',\n",
       "       'MasVnrArea', 'MasVnrType', 'MiscFeature', 'MiscVal', 'MoSold',\n",
       "       'Neighborhood', 'OpenPorchSF', 'OverallCond', 'OverallQual',\n",
       "       'PavedDrive', 'PoolArea', 'PoolQC', 'RoofMatl', 'RoofStyle',\n",
       "       'SaleCondition', 'SalePrice', 'SaleType', 'ScreenPorch', 'Street',\n",
       "       'TotRmsAbvGrd', 'TotalBsmtSF', 'Utilities', 'WoodDeckSF', 'YearBuilt',\n",
       "       'YearRemodAdd', 'YrSold'],\n",
       "      dtype='object')"
      ]
     },
     "execution_count": 10,
     "metadata": {},
     "output_type": "execute_result"
    }
   ],
   "source": [
    "df.columns"
   ]
  },
  {
   "cell_type": "code",
   "execution_count": 13,
   "metadata": {},
   "outputs": [
    {
     "name": "stdout",
     "output_type": "stream",
     "text": [
      "Percentage of null values for total df\n",
      "Alley     -     93.21685508735868\n",
      "BsmtCond     -     2.8091812264474134\n",
      "BsmtExposure     -     2.8091812264474134\n",
      "BsmtFinSF1     -     0.0342583076396026\n",
      "BsmtFinSF2     -     0.0342583076396026\n",
      "BsmtFinType1     -     2.7064063035286057\n",
      "BsmtFinType2     -     2.7406646111682083\n",
      "BsmtFullBath     -     0.0685166152792052\n",
      "BsmtHalfBath     -     0.0685166152792052\n",
      "BsmtQual     -     2.774922918807811\n",
      "BsmtUnfSF     -     0.0342583076396026\n",
      "Electrical     -     0.0342583076396026\n",
      "Exterior1st     -     0.0342583076396026\n",
      "Exterior2nd     -     0.0342583076396026\n",
      "Fence     -     80.43850633778692\n",
      "FireplaceQu     -     48.646796848235695\n",
      "Functional     -     0.0685166152792052\n",
      "GarageArea     -     0.0342583076396026\n",
      "GarageCars     -     0.0342583076396026\n",
      "GarageCond     -     5.447070914696814\n",
      "GarageFinish     -     5.447070914696814\n",
      "GarageQual     -     5.447070914696814\n",
      "GarageType     -     5.378554299417609\n",
      "GarageYrBlt     -     5.447070914696814\n",
      "KitchenQual     -     0.0342583076396026\n",
      "LotFrontage     -     16.649537512846866\n",
      "MSZoning     -     0.1370332305584104\n",
      "MasVnrArea     -     0.7879410757108599\n",
      "MasVnrType     -     0.8221993833504625\n",
      "MiscFeature     -     96.40287769784173\n",
      "PoolQC     -     99.65741692360398\n",
      "SaleType     -     0.0342583076396026\n",
      "TotalBsmtSF     -     0.0342583076396026\n",
      "Utilities     -     0.0685166152792052\n"
     ]
    }
   ],
   "source": [
    "threshold = 20\n",
    "col_with_null_beyond_threshold = []\n",
    "col_with_null_below_threshold = []\n",
    "\n",
    "print(\"Percentage of null values for total df\")\n",
    "\n",
    "with pd.option_context('display.max_rows', None, 'display.max_columns', None):  # more options can be specified also\n",
    "    percentage_null_values = df.isnull().sum()*100/df.shape[0]\n",
    "    \n",
    "    for col,val in percentage_null_values.iteritems():\n",
    "        if col=='SalePrice':\n",
    "            continue\n",
    "        if val!=0:\n",
    "            print(col,\"    -    \",val)\n",
    "            if val>threshold:\n",
    "                col_with_null_beyond_threshold.append(col)\n",
    "            else:\n",
    "                col_with_null_below_threshold.append(col)"
   ]
  },
  {
   "cell_type": "code",
   "execution_count": 14,
   "metadata": {},
   "outputs": [
    {
     "data": {
      "text/plain": [
       "(2919, 81)"
      ]
     },
     "execution_count": 14,
     "metadata": {},
     "output_type": "execute_result"
    }
   ],
   "source": [
    "df.shape"
   ]
  },
  {
   "cell_type": "code",
   "execution_count": 15,
   "metadata": {},
   "outputs": [
    {
     "data": {
      "text/plain": [
       "['Alley', 'Fence', 'FireplaceQu', 'MiscFeature', 'PoolQC']"
      ]
     },
     "execution_count": 15,
     "metadata": {},
     "output_type": "execute_result"
    }
   ],
   "source": [
    "col_with_null_beyond_threshold"
   ]
  },
  {
   "cell_type": "code",
   "execution_count": 16,
   "metadata": {},
   "outputs": [],
   "source": [
    "df = df.drop(col_with_null_beyond_threshold,axis=1)"
   ]
  },
  {
   "cell_type": "code",
   "execution_count": 17,
   "metadata": {},
   "outputs": [
    {
     "data": {
      "text/plain": [
       "(2919, 76)"
      ]
     },
     "execution_count": 17,
     "metadata": {},
     "output_type": "execute_result"
    }
   ],
   "source": [
    "df.shape"
   ]
  },
  {
   "cell_type": "code",
   "execution_count": 18,
   "metadata": {},
   "outputs": [
    {
     "data": {
      "text/plain": [
       "147500.0"
      ]
     },
     "execution_count": 18,
     "metadata": {},
     "output_type": "execute_result"
    }
   ],
   "source": [
    "df.iloc[df_train.shape[0]-1,:]['SalePrice']"
   ]
  },
  {
   "cell_type": "code",
   "execution_count": 19,
   "metadata": {},
   "outputs": [
    {
     "data": {
      "text/plain": [
       "['BsmtCond',\n",
       " 'BsmtExposure',\n",
       " 'BsmtFinSF1',\n",
       " 'BsmtFinSF2',\n",
       " 'BsmtFinType1',\n",
       " 'BsmtFinType2',\n",
       " 'BsmtFullBath',\n",
       " 'BsmtHalfBath',\n",
       " 'BsmtQual',\n",
       " 'BsmtUnfSF',\n",
       " 'Electrical',\n",
       " 'Exterior1st',\n",
       " 'Exterior2nd',\n",
       " 'Functional',\n",
       " 'GarageArea',\n",
       " 'GarageCars',\n",
       " 'GarageCond',\n",
       " 'GarageFinish',\n",
       " 'GarageQual',\n",
       " 'GarageType',\n",
       " 'GarageYrBlt',\n",
       " 'KitchenQual',\n",
       " 'LotFrontage',\n",
       " 'MSZoning',\n",
       " 'MasVnrArea',\n",
       " 'MasVnrType',\n",
       " 'SaleType',\n",
       " 'TotalBsmtSF',\n",
       " 'Utilities']"
      ]
     },
     "execution_count": 19,
     "metadata": {},
     "output_type": "execute_result"
    }
   ],
   "source": [
    "col_with_null_below_threshold"
   ]
  },
  {
   "cell_type": "code",
   "execution_count": 20,
   "metadata": {},
   "outputs": [],
   "source": [
    "for col in col_with_null_below_threshold:\n",
    "    df[col] = df[col].fillna(df[col].mode()[0])"
   ]
  },
  {
   "cell_type": "code",
   "execution_count": 21,
   "metadata": {},
   "outputs": [
    {
     "name": "stdout",
     "output_type": "stream",
     "text": [
      "1stFlrSF            0\n",
      "2ndFlrSF            0\n",
      "3SsnPorch           0\n",
      "BedroomAbvGr        0\n",
      "BldgType            0\n",
      "BsmtCond            0\n",
      "BsmtExposure        0\n",
      "BsmtFinSF1          0\n",
      "BsmtFinSF2          0\n",
      "BsmtFinType1        0\n",
      "BsmtFinType2        0\n",
      "BsmtFullBath        0\n",
      "BsmtHalfBath        0\n",
      "BsmtQual            0\n",
      "BsmtUnfSF           0\n",
      "CentralAir          0\n",
      "Condition1          0\n",
      "Condition2          0\n",
      "Electrical          0\n",
      "EnclosedPorch       0\n",
      "ExterCond           0\n",
      "ExterQual           0\n",
      "Exterior1st         0\n",
      "Exterior2nd         0\n",
      "Fireplaces          0\n",
      "Foundation          0\n",
      "FullBath            0\n",
      "Functional          0\n",
      "GarageArea          0\n",
      "GarageCars          0\n",
      "GarageCond          0\n",
      "GarageFinish        0\n",
      "GarageQual          0\n",
      "GarageType          0\n",
      "GarageYrBlt         0\n",
      "GrLivArea           0\n",
      "HalfBath            0\n",
      "Heating             0\n",
      "HeatingQC           0\n",
      "HouseStyle          0\n",
      "Id                  0\n",
      "KitchenAbvGr        0\n",
      "KitchenQual         0\n",
      "LandContour         0\n",
      "LandSlope           0\n",
      "LotArea             0\n",
      "LotConfig           0\n",
      "LotFrontage         0\n",
      "LotShape            0\n",
      "LowQualFinSF        0\n",
      "MSSubClass          0\n",
      "MSZoning            0\n",
      "MasVnrArea          0\n",
      "MasVnrType          0\n",
      "MiscVal             0\n",
      "MoSold              0\n",
      "Neighborhood        0\n",
      "OpenPorchSF         0\n",
      "OverallCond         0\n",
      "OverallQual         0\n",
      "PavedDrive          0\n",
      "PoolArea            0\n",
      "RoofMatl            0\n",
      "RoofStyle           0\n",
      "SaleCondition       0\n",
      "SalePrice        1459\n",
      "SaleType            0\n",
      "ScreenPorch         0\n",
      "Street              0\n",
      "TotRmsAbvGrd        0\n",
      "TotalBsmtSF         0\n",
      "Utilities           0\n",
      "WoodDeckSF          0\n",
      "YearBuilt           0\n",
      "YearRemodAdd        0\n",
      "YrSold              0\n",
      "dtype: int64\n"
     ]
    }
   ],
   "source": [
    "with pd.option_context('display.max_rows', None, 'display.max_columns', None):  # more options can be specified also\n",
    "    print(df.isna().sum())"
   ]
  },
  {
   "cell_type": "code",
   "execution_count": 22,
   "metadata": {},
   "outputs": [
    {
     "data": {
      "text/plain": [
       "(2919, 76)"
      ]
     },
     "execution_count": 22,
     "metadata": {},
     "output_type": "execute_result"
    }
   ],
   "source": [
    "df.shape"
   ]
  },
  {
   "cell_type": "code",
   "execution_count": 23,
   "metadata": {},
   "outputs": [],
   "source": [
    "categorical_columns = []\n",
    "for col in df.columns:\n",
    "    if df[col].dtype == object:\n",
    "        categorical_columns.append(col)"
   ]
  },
  {
   "cell_type": "code",
   "execution_count": 24,
   "metadata": {},
   "outputs": [],
   "source": [
    "for index,col in enumerate(categorical_columns):\n",
    "    \n",
    "    df1 = pd.get_dummies(df[col],drop_first = True)\n",
    "    df.drop([col],axis=1,inplace=True)\n",
    "    df = pd.concat([df,df1],axis=1)\n",
    "\n",
    "        "
   ]
  },
  {
   "cell_type": "code",
   "execution_count": 25,
   "metadata": {},
   "outputs": [
    {
     "data": {
      "text/plain": [
       "147500.0"
      ]
     },
     "execution_count": 25,
     "metadata": {},
     "output_type": "execute_result"
    }
   ],
   "source": [
    "df.iloc[df_train.shape[0]-1,:]['SalePrice']"
   ]
  },
  {
   "cell_type": "code",
   "execution_count": 26,
   "metadata": {},
   "outputs": [],
   "source": [
    "df = df.loc[:,~df.columns.duplicated()]\n"
   ]
  },
  {
   "cell_type": "code",
   "execution_count": 27,
   "metadata": {},
   "outputs": [
    {
     "data": {
      "text/plain": [
       "(2919, 178)"
      ]
     },
     "execution_count": 27,
     "metadata": {},
     "output_type": "execute_result"
    }
   ],
   "source": [
    "df.shape"
   ]
  },
  {
   "cell_type": "code",
   "execution_count": 28,
   "metadata": {},
   "outputs": [
    {
     "data": {
      "text/plain": [
       "147500.0"
      ]
     },
     "execution_count": 28,
     "metadata": {},
     "output_type": "execute_result"
    }
   ],
   "source": [
    "df.iloc[df_train.shape[0]-1,:]['SalePrice']"
   ]
  },
  {
   "cell_type": "code",
   "execution_count": 29,
   "metadata": {},
   "outputs": [],
   "source": [
    "df.drop(['Id'],axis=1,inplace=True)"
   ]
  },
  {
   "cell_type": "code",
   "execution_count": 30,
   "metadata": {},
   "outputs": [
    {
     "data": {
      "text/plain": [
       "147500.0"
      ]
     },
     "execution_count": 30,
     "metadata": {},
     "output_type": "execute_result"
    }
   ],
   "source": [
    "df.iloc[df_train.shape[0]-1,:]['SalePrice']"
   ]
  },
  {
   "cell_type": "code",
   "execution_count": 31,
   "metadata": {},
   "outputs": [
    {
     "data": {
      "text/plain": [
       "True"
      ]
     },
     "execution_count": 31,
     "metadata": {},
     "output_type": "execute_result"
    }
   ],
   "source": [
    "'SalePrice' in df.columns"
   ]
  },
  {
   "cell_type": "code",
   "execution_count": 32,
   "metadata": {},
   "outputs": [],
   "source": [
    "dfTrain = df.iloc[:df_train.shape[0],:]\n",
    "dfTest = df.iloc[df_train.shape[0]:,:]"
   ]
  },
  {
   "cell_type": "code",
   "execution_count": 33,
   "metadata": {},
   "outputs": [
    {
     "data": {
      "text/plain": [
       "0       208500.0\n",
       "1       181500.0\n",
       "2       223500.0\n",
       "3       140000.0\n",
       "4       250000.0\n",
       "          ...   \n",
       "1455    175000.0\n",
       "1456    210000.0\n",
       "1457    266500.0\n",
       "1458    142125.0\n",
       "1459    147500.0\n",
       "Name: SalePrice, Length: 1460, dtype: float64"
      ]
     },
     "execution_count": 33,
     "metadata": {},
     "output_type": "execute_result"
    }
   ],
   "source": [
    "dfTrain['SalePrice']"
   ]
  },
  {
   "cell_type": "code",
   "execution_count": 34,
   "metadata": {},
   "outputs": [
    {
     "name": "stderr",
     "output_type": "stream",
     "text": [
      "C:\\Users\\kungw\\Anaconda3\\lib\\site-packages\\pandas\\core\\frame.py:4117: SettingWithCopyWarning: \n",
      "A value is trying to be set on a copy of a slice from a DataFrame\n",
      "\n",
      "See the caveats in the documentation: http://pandas.pydata.org/pandas-docs/stable/user_guide/indexing.html#returning-a-view-versus-a-copy\n",
      "  errors=errors,\n"
     ]
    }
   ],
   "source": [
    "dfTest.drop(['SalePrice'],axis=1,inplace=True)"
   ]
  },
  {
   "cell_type": "code",
   "execution_count": 35,
   "metadata": {},
   "outputs": [
    {
     "data": {
      "text/plain": [
       "0       208500.0\n",
       "1       181500.0\n",
       "2       223500.0\n",
       "3       140000.0\n",
       "4       250000.0\n",
       "          ...   \n",
       "1455    175000.0\n",
       "1456    210000.0\n",
       "1457    266500.0\n",
       "1458    142125.0\n",
       "1459    147500.0\n",
       "Name: SalePrice, Length: 1460, dtype: float64"
      ]
     },
     "execution_count": 35,
     "metadata": {},
     "output_type": "execute_result"
    }
   ],
   "source": [
    "dfTrain['SalePrice']"
   ]
  },
  {
   "cell_type": "code",
   "execution_count": 36,
   "metadata": {},
   "outputs": [
    {
     "data": {
      "text/plain": [
       "(1459, 176)"
      ]
     },
     "execution_count": 36,
     "metadata": {},
     "output_type": "execute_result"
    }
   ],
   "source": [
    "dfTest.shape"
   ]
  },
  {
   "cell_type": "code",
   "execution_count": 37,
   "metadata": {},
   "outputs": [],
   "source": [
    "y = dfTrain['SalePrice']\n",
    "x = dfTrain.drop(['SalePrice'],axis=1)"
   ]
  },
  {
   "cell_type": "code",
   "execution_count": 38,
   "metadata": {},
   "outputs": [
    {
     "data": {
      "text/plain": [
       "0       208500.0\n",
       "1       181500.0\n",
       "2       223500.0\n",
       "3       140000.0\n",
       "4       250000.0\n",
       "          ...   \n",
       "1455    175000.0\n",
       "1456    210000.0\n",
       "1457    266500.0\n",
       "1458    142125.0\n",
       "1459    147500.0\n",
       "Name: SalePrice, Length: 1460, dtype: float64"
      ]
     },
     "execution_count": 38,
     "metadata": {},
     "output_type": "execute_result"
    }
   ],
   "source": [
    "y"
   ]
  },
  {
   "cell_type": "code",
   "execution_count": 39,
   "metadata": {},
   "outputs": [],
   "source": [
    "import xgboost\n",
    "regressor=xgboost.XGBRegressor()"
   ]
  },
  {
   "cell_type": "code",
   "execution_count": 42,
   "metadata": {},
   "outputs": [
    {
     "data": {
      "text/plain": [
       "False"
      ]
     },
     "execution_count": 42,
     "metadata": {},
     "output_type": "execute_result"
    }
   ],
   "source": [
    "'SalePrice' in x.columns"
   ]
  },
  {
   "cell_type": "code",
   "execution_count": 43,
   "metadata": {},
   "outputs": [],
   "source": [
    "bst = regressor.fit(x,y)\n"
   ]
  },
  {
   "cell_type": "code",
   "execution_count": 45,
   "metadata": {},
   "outputs": [
    {
     "data": {
      "text/plain": [
       "False"
      ]
     },
     "execution_count": 45,
     "metadata": {},
     "output_type": "execute_result"
    }
   ],
   "source": [
    "'SalePrice' in dfTest.columns"
   ]
  },
  {
   "cell_type": "code",
   "execution_count": 46,
   "metadata": {},
   "outputs": [],
   "source": [
    "y_pred = regressor.predict(dfTest)"
   ]
  },
  {
   "cell_type": "code",
   "execution_count": null,
   "metadata": {},
   "outputs": [],
   "source": [
    "from sklearn.metrics import mean_squared_error\n",
    "print()"
   ]
  },
  {
   "cell_type": "code",
   "execution_count": 48,
   "metadata": {},
   "outputs": [],
   "source": [
    "pred=pd.DataFrame(y_pred)\n",
    "sub_df=pd.read_csv('data/sample_submission.csv')\n",
    "datasets=pd.concat([sub_df['Id'],pred],axis=1)\n",
    "datasets.columns=['Id','SalePrice']\n",
    "datasets.to_csv('sample_submission.csv',index=False)"
   ]
  },
  {
   "cell_type": "code",
   "execution_count": 30,
   "metadata": {},
   "outputs": [],
   "source": [
    "# Alley : NA - No alley access\n",
    "# BsmtQual : NA - No basement\n",
    "# BsmtCond : NA - No basement\n",
    "# BsmtExposure : NA - No basement\n",
    "# BsmtFinType1 : NA - No basemen\n",
    "# BsmtFinType2 : NA - No basemen\n",
    "# FireplaceQu : NA - No fireplace\n",
    "# GarageType : NA  - No Garage\n",
    "# GarageFinish : NA  - No Garage\n",
    "# GarageFinish : NA  - No Garage\n",
    "# GarageCond : NA  - No Garage\n",
    "# PoolQC : NA - No pool\n",
    "# Fence : NA - No Fence\n",
    "# MiscFeature : NA - No Other luxury"
   ]
  },
  {
   "cell_type": "code",
   "execution_count": 31,
   "metadata": {},
   "outputs": [
    {
     "data": {
      "text/html": [
       "<div>\n",
       "<style scoped>\n",
       "    .dataframe tbody tr th:only-of-type {\n",
       "        vertical-align: middle;\n",
       "    }\n",
       "\n",
       "    .dataframe tbody tr th {\n",
       "        vertical-align: top;\n",
       "    }\n",
       "\n",
       "    .dataframe thead th {\n",
       "        text-align: right;\n",
       "    }\n",
       "</style>\n",
       "<table border=\"1\" class=\"dataframe\">\n",
       "  <thead>\n",
       "    <tr style=\"text-align: right;\">\n",
       "      <th></th>\n",
       "      <th>Id</th>\n",
       "      <th>MSSubClass</th>\n",
       "      <th>LotFrontage</th>\n",
       "      <th>LotArea</th>\n",
       "      <th>OverallQual</th>\n",
       "      <th>OverallCond</th>\n",
       "      <th>YearBuilt</th>\n",
       "      <th>YearRemodAdd</th>\n",
       "      <th>MasVnrArea</th>\n",
       "      <th>BsmtFinSF1</th>\n",
       "      <th>...</th>\n",
       "      <th>WoodDeckSF</th>\n",
       "      <th>OpenPorchSF</th>\n",
       "      <th>EnclosedPorch</th>\n",
       "      <th>3SsnPorch</th>\n",
       "      <th>ScreenPorch</th>\n",
       "      <th>PoolArea</th>\n",
       "      <th>MiscVal</th>\n",
       "      <th>MoSold</th>\n",
       "      <th>YrSold</th>\n",
       "      <th>SalePrice</th>\n",
       "    </tr>\n",
       "  </thead>\n",
       "  <tbody>\n",
       "    <tr>\n",
       "      <th>count</th>\n",
       "      <td>1460.000000</td>\n",
       "      <td>1460.000000</td>\n",
       "      <td>1201.000000</td>\n",
       "      <td>1460.000000</td>\n",
       "      <td>1460.000000</td>\n",
       "      <td>1460.000000</td>\n",
       "      <td>1460.000000</td>\n",
       "      <td>1460.000000</td>\n",
       "      <td>1452.000000</td>\n",
       "      <td>1460.000000</td>\n",
       "      <td>...</td>\n",
       "      <td>1460.000000</td>\n",
       "      <td>1460.000000</td>\n",
       "      <td>1460.000000</td>\n",
       "      <td>1460.000000</td>\n",
       "      <td>1460.000000</td>\n",
       "      <td>1460.000000</td>\n",
       "      <td>1460.000000</td>\n",
       "      <td>1460.000000</td>\n",
       "      <td>1460.000000</td>\n",
       "      <td>1460.000000</td>\n",
       "    </tr>\n",
       "    <tr>\n",
       "      <th>mean</th>\n",
       "      <td>730.500000</td>\n",
       "      <td>56.897260</td>\n",
       "      <td>70.049958</td>\n",
       "      <td>10516.828082</td>\n",
       "      <td>6.099315</td>\n",
       "      <td>5.575342</td>\n",
       "      <td>1971.267808</td>\n",
       "      <td>1984.865753</td>\n",
       "      <td>103.685262</td>\n",
       "      <td>443.639726</td>\n",
       "      <td>...</td>\n",
       "      <td>94.244521</td>\n",
       "      <td>46.660274</td>\n",
       "      <td>21.954110</td>\n",
       "      <td>3.409589</td>\n",
       "      <td>15.060959</td>\n",
       "      <td>2.758904</td>\n",
       "      <td>43.489041</td>\n",
       "      <td>6.321918</td>\n",
       "      <td>2007.815753</td>\n",
       "      <td>180921.195890</td>\n",
       "    </tr>\n",
       "    <tr>\n",
       "      <th>std</th>\n",
       "      <td>421.610009</td>\n",
       "      <td>42.300571</td>\n",
       "      <td>24.284752</td>\n",
       "      <td>9981.264932</td>\n",
       "      <td>1.382997</td>\n",
       "      <td>1.112799</td>\n",
       "      <td>30.202904</td>\n",
       "      <td>20.645407</td>\n",
       "      <td>181.066207</td>\n",
       "      <td>456.098091</td>\n",
       "      <td>...</td>\n",
       "      <td>125.338794</td>\n",
       "      <td>66.256028</td>\n",
       "      <td>61.119149</td>\n",
       "      <td>29.317331</td>\n",
       "      <td>55.757415</td>\n",
       "      <td>40.177307</td>\n",
       "      <td>496.123024</td>\n",
       "      <td>2.703626</td>\n",
       "      <td>1.328095</td>\n",
       "      <td>79442.502883</td>\n",
       "    </tr>\n",
       "    <tr>\n",
       "      <th>min</th>\n",
       "      <td>1.000000</td>\n",
       "      <td>20.000000</td>\n",
       "      <td>21.000000</td>\n",
       "      <td>1300.000000</td>\n",
       "      <td>1.000000</td>\n",
       "      <td>1.000000</td>\n",
       "      <td>1872.000000</td>\n",
       "      <td>1950.000000</td>\n",
       "      <td>0.000000</td>\n",
       "      <td>0.000000</td>\n",
       "      <td>...</td>\n",
       "      <td>0.000000</td>\n",
       "      <td>0.000000</td>\n",
       "      <td>0.000000</td>\n",
       "      <td>0.000000</td>\n",
       "      <td>0.000000</td>\n",
       "      <td>0.000000</td>\n",
       "      <td>0.000000</td>\n",
       "      <td>1.000000</td>\n",
       "      <td>2006.000000</td>\n",
       "      <td>34900.000000</td>\n",
       "    </tr>\n",
       "    <tr>\n",
       "      <th>25%</th>\n",
       "      <td>365.750000</td>\n",
       "      <td>20.000000</td>\n",
       "      <td>59.000000</td>\n",
       "      <td>7553.500000</td>\n",
       "      <td>5.000000</td>\n",
       "      <td>5.000000</td>\n",
       "      <td>1954.000000</td>\n",
       "      <td>1967.000000</td>\n",
       "      <td>0.000000</td>\n",
       "      <td>0.000000</td>\n",
       "      <td>...</td>\n",
       "      <td>0.000000</td>\n",
       "      <td>0.000000</td>\n",
       "      <td>0.000000</td>\n",
       "      <td>0.000000</td>\n",
       "      <td>0.000000</td>\n",
       "      <td>0.000000</td>\n",
       "      <td>0.000000</td>\n",
       "      <td>5.000000</td>\n",
       "      <td>2007.000000</td>\n",
       "      <td>129975.000000</td>\n",
       "    </tr>\n",
       "    <tr>\n",
       "      <th>50%</th>\n",
       "      <td>730.500000</td>\n",
       "      <td>50.000000</td>\n",
       "      <td>69.000000</td>\n",
       "      <td>9478.500000</td>\n",
       "      <td>6.000000</td>\n",
       "      <td>5.000000</td>\n",
       "      <td>1973.000000</td>\n",
       "      <td>1994.000000</td>\n",
       "      <td>0.000000</td>\n",
       "      <td>383.500000</td>\n",
       "      <td>...</td>\n",
       "      <td>0.000000</td>\n",
       "      <td>25.000000</td>\n",
       "      <td>0.000000</td>\n",
       "      <td>0.000000</td>\n",
       "      <td>0.000000</td>\n",
       "      <td>0.000000</td>\n",
       "      <td>0.000000</td>\n",
       "      <td>6.000000</td>\n",
       "      <td>2008.000000</td>\n",
       "      <td>163000.000000</td>\n",
       "    </tr>\n",
       "    <tr>\n",
       "      <th>75%</th>\n",
       "      <td>1095.250000</td>\n",
       "      <td>70.000000</td>\n",
       "      <td>80.000000</td>\n",
       "      <td>11601.500000</td>\n",
       "      <td>7.000000</td>\n",
       "      <td>6.000000</td>\n",
       "      <td>2000.000000</td>\n",
       "      <td>2004.000000</td>\n",
       "      <td>166.000000</td>\n",
       "      <td>712.250000</td>\n",
       "      <td>...</td>\n",
       "      <td>168.000000</td>\n",
       "      <td>68.000000</td>\n",
       "      <td>0.000000</td>\n",
       "      <td>0.000000</td>\n",
       "      <td>0.000000</td>\n",
       "      <td>0.000000</td>\n",
       "      <td>0.000000</td>\n",
       "      <td>8.000000</td>\n",
       "      <td>2009.000000</td>\n",
       "      <td>214000.000000</td>\n",
       "    </tr>\n",
       "    <tr>\n",
       "      <th>max</th>\n",
       "      <td>1460.000000</td>\n",
       "      <td>190.000000</td>\n",
       "      <td>313.000000</td>\n",
       "      <td>215245.000000</td>\n",
       "      <td>10.000000</td>\n",
       "      <td>9.000000</td>\n",
       "      <td>2010.000000</td>\n",
       "      <td>2010.000000</td>\n",
       "      <td>1600.000000</td>\n",
       "      <td>5644.000000</td>\n",
       "      <td>...</td>\n",
       "      <td>857.000000</td>\n",
       "      <td>547.000000</td>\n",
       "      <td>552.000000</td>\n",
       "      <td>508.000000</td>\n",
       "      <td>480.000000</td>\n",
       "      <td>738.000000</td>\n",
       "      <td>15500.000000</td>\n",
       "      <td>12.000000</td>\n",
       "      <td>2010.000000</td>\n",
       "      <td>755000.000000</td>\n",
       "    </tr>\n",
       "  </tbody>\n",
       "</table>\n",
       "<p>8 rows × 38 columns</p>\n",
       "</div>"
      ],
      "text/plain": [
       "                Id   MSSubClass  LotFrontage        LotArea  OverallQual  \\\n",
       "count  1460.000000  1460.000000  1201.000000    1460.000000  1460.000000   \n",
       "mean    730.500000    56.897260    70.049958   10516.828082     6.099315   \n",
       "std     421.610009    42.300571    24.284752    9981.264932     1.382997   \n",
       "min       1.000000    20.000000    21.000000    1300.000000     1.000000   \n",
       "25%     365.750000    20.000000    59.000000    7553.500000     5.000000   \n",
       "50%     730.500000    50.000000    69.000000    9478.500000     6.000000   \n",
       "75%    1095.250000    70.000000    80.000000   11601.500000     7.000000   \n",
       "max    1460.000000   190.000000   313.000000  215245.000000    10.000000   \n",
       "\n",
       "       OverallCond    YearBuilt  YearRemodAdd   MasVnrArea   BsmtFinSF1  ...  \\\n",
       "count  1460.000000  1460.000000   1460.000000  1452.000000  1460.000000  ...   \n",
       "mean      5.575342  1971.267808   1984.865753   103.685262   443.639726  ...   \n",
       "std       1.112799    30.202904     20.645407   181.066207   456.098091  ...   \n",
       "min       1.000000  1872.000000   1950.000000     0.000000     0.000000  ...   \n",
       "25%       5.000000  1954.000000   1967.000000     0.000000     0.000000  ...   \n",
       "50%       5.000000  1973.000000   1994.000000     0.000000   383.500000  ...   \n",
       "75%       6.000000  2000.000000   2004.000000   166.000000   712.250000  ...   \n",
       "max       9.000000  2010.000000   2010.000000  1600.000000  5644.000000  ...   \n",
       "\n",
       "        WoodDeckSF  OpenPorchSF  EnclosedPorch    3SsnPorch  ScreenPorch  \\\n",
       "count  1460.000000  1460.000000    1460.000000  1460.000000  1460.000000   \n",
       "mean     94.244521    46.660274      21.954110     3.409589    15.060959   \n",
       "std     125.338794    66.256028      61.119149    29.317331    55.757415   \n",
       "min       0.000000     0.000000       0.000000     0.000000     0.000000   \n",
       "25%       0.000000     0.000000       0.000000     0.000000     0.000000   \n",
       "50%       0.000000    25.000000       0.000000     0.000000     0.000000   \n",
       "75%     168.000000    68.000000       0.000000     0.000000     0.000000   \n",
       "max     857.000000   547.000000     552.000000   508.000000   480.000000   \n",
       "\n",
       "          PoolArea       MiscVal       MoSold       YrSold      SalePrice  \n",
       "count  1460.000000   1460.000000  1460.000000  1460.000000    1460.000000  \n",
       "mean      2.758904     43.489041     6.321918  2007.815753  180921.195890  \n",
       "std      40.177307    496.123024     2.703626     1.328095   79442.502883  \n",
       "min       0.000000      0.000000     1.000000  2006.000000   34900.000000  \n",
       "25%       0.000000      0.000000     5.000000  2007.000000  129975.000000  \n",
       "50%       0.000000      0.000000     6.000000  2008.000000  163000.000000  \n",
       "75%       0.000000      0.000000     8.000000  2009.000000  214000.000000  \n",
       "max     738.000000  15500.000000    12.000000  2010.000000  755000.000000  \n",
       "\n",
       "[8 rows x 38 columns]"
      ]
     },
     "execution_count": 31,
     "metadata": {},
     "output_type": "execute_result"
    }
   ],
   "source": [
    "df.describe()"
   ]
  },
  {
   "cell_type": "code",
   "execution_count": 34,
   "metadata": {},
   "outputs": [],
   "source": [
    "categorical_col = []\n",
    "continous_col = []\n",
    "for col in df.columns:\n",
    "    if df[col].dtype == object:\n",
    "        categorical_col.append(col)\n",
    "    else:\n",
    "        continous_col.append(col)"
   ]
  },
  {
   "cell_type": "code",
   "execution_count": null,
   "metadata": {},
   "outputs": [],
   "source": []
  },
  {
   "cell_type": "code",
   "execution_count": null,
   "metadata": {},
   "outputs": [],
   "source": []
  },
  {
   "cell_type": "code",
   "execution_count": null,
   "metadata": {},
   "outputs": [],
   "source": [
    "#drop id since it is unique for each data point"
   ]
  },
  {
   "cell_type": "code",
   "execution_count": null,
   "metadata": {},
   "outputs": [],
   "source": [
    "col_with_null_beyond_threshold"
   ]
  },
  {
   "cell_type": "code",
   "execution_count": null,
   "metadata": {},
   "outputs": [],
   "source": []
  }
 ],
 "metadata": {
  "kernelspec": {
   "display_name": "Python 3",
   "language": "python",
   "name": "python3"
  },
  "language_info": {
   "codemirror_mode": {
    "name": "ipython",
    "version": 3
   },
   "file_extension": ".py",
   "mimetype": "text/x-python",
   "name": "python",
   "nbconvert_exporter": "python",
   "pygments_lexer": "ipython3",
   "version": "3.6.10"
  }
 },
 "nbformat": 4,
 "nbformat_minor": 2
}
